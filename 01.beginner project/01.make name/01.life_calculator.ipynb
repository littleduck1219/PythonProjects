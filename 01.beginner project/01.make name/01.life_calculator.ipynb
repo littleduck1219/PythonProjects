{
 "cells": [
  {
   "cell_type": "markdown",
   "metadata": {},
   "source": [
    "## life calculator\n",
    "\n",
    "input 받은 값으로 full name과 남은 인생을 일, 주, 개월 로 계산한다.(90세까지 산다고 가정한다.)<br>\n",
    "Calculate the full name and the remaining life in days, weeks, and months with the input value. (Assume to live until age 90)\n"
   ]
  },
  {
   "cell_type": "code",
   "execution_count": 1,
   "metadata": {},
   "outputs": [
    {
     "name": "stdout",
     "output_type": "stream",
     "text": [
      "Welcome to the Life in Weeks\n"
     ]
    }
   ],
   "source": [
    "print(\"Welcome to the Life in Weeks\") "
   ]
  },
  {
   "cell_type": "code",
   "execution_count": 6,
   "metadata": {},
   "outputs": [],
   "source": [
    "first_name = input(\"What is your first name?\") # input first name"
   ]
  },
  {
   "cell_type": "code",
   "execution_count": 7,
   "metadata": {},
   "outputs": [],
   "source": [
    "last_name = input(\"What is your last name?\") # input last name"
   ]
  },
  {
   "cell_type": "code",
   "execution_count": 8,
   "metadata": {},
   "outputs": [],
   "source": [
    "age = input(\"What is your current age?\") # input your age"
   ]
  },
  {
   "cell_type": "code",
   "execution_count": 9,
   "metadata": {},
   "outputs": [],
   "source": [
    "left = 90 - int(age) # this assuming your life is up to 90"
   ]
  },
  {
   "cell_type": "code",
   "execution_count": 10,
   "metadata": {},
   "outputs": [
    {
     "name": "stdout",
     "output_type": "stream",
     "text": [
      " park gyeongdeok\n",
      "you have 22995 days, 3276 weeks, and 756 months left.\n"
     ]
    }
   ],
   "source": [
    "print(f\" {first_name} {last_name}\\nyou have {left*365} days, {left*52} weeks, and {left*12} months left.\")"
   ]
  },
  {
   "cell_type": "code",
   "execution_count": null,
   "metadata": {},
   "outputs": [],
   "source": []
  }
 ],
 "metadata": {
  "kernelspec": {
   "display_name": "Python 3.9.12 ('base')",
   "language": "python",
   "name": "python3"
  },
  "language_info": {
   "codemirror_mode": {
    "name": "ipython",
    "version": 3
   },
   "file_extension": ".py",
   "mimetype": "text/x-python",
   "name": "python",
   "nbconvert_exporter": "python",
   "pygments_lexer": "ipython3",
   "version": "3.9.12"
  },
  "orig_nbformat": 4,
  "vscode": {
   "interpreter": {
    "hash": "53ef7bdd207552b6da7162dea4211de23da0c26f07854d7886087ce0b84ae931"
   }
  }
 },
 "nbformat": 4,
 "nbformat_minor": 2
}
