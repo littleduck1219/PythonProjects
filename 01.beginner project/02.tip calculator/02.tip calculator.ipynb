{
 "cells": [
  {
   "cell_type": "markdown",
   "metadata": {},
   "source": [
    "## Tip Calculator\n",
    "\n",
    "금액에서 팁 퍼센트를 계산하여 인원수별 팁을 포함한 금액을 계산합니다.<br>\n",
    "Calculate the tip percentage from the amount, including tip per head."
   ]
  },
  {
   "cell_type": "code",
   "execution_count": 1,
   "metadata": {},
   "outputs": [
    {
     "name": "stdout",
     "output_type": "stream",
     "text": [
      "Welcome to the tip calculator\n"
     ]
    }
   ],
   "source": [
    "print(\"Welcome to the tip calculator\")"
   ]
  },
  {
   "cell_type": "code",
   "execution_count": 2,
   "metadata": {},
   "outputs": [],
   "source": [
    "bill = float(input(\"What was the total bii? $\"))"
   ]
  },
  {
   "cell_type": "code",
   "execution_count": 3,
   "metadata": {},
   "outputs": [],
   "source": [
    "tip = int(input(\"What percentage tip would you like \"))"
   ]
  },
  {
   "cell_type": "code",
   "execution_count": 4,
   "metadata": {},
   "outputs": [],
   "source": [
    "people = int(input(\"How many people to split the bill \"))"
   ]
  },
  {
   "cell_type": "code",
   "execution_count": 5,
   "metadata": {},
   "outputs": [],
   "source": [
    "bill_with_tip = bill * tip / 100 + bill"
   ]
  },
  {
   "cell_type": "code",
   "execution_count": 6,
   "metadata": {},
   "outputs": [],
   "source": [
    "bill_per_percent = round(bill_with_tip / people, 2)"
   ]
  },
  {
   "cell_type": "code",
   "execution_count": 7,
   "metadata": {},
   "outputs": [
    {
     "name": "stdout",
     "output_type": "stream",
     "text": [
      "Each person should pay : $24.64\n"
     ]
    }
   ],
   "source": [
    "print(f\"Each person should pay : ${bill_per_percent}\")"
   ]
  }
 ],
 "metadata": {
  "kernelspec": {
   "display_name": "Python 3.9.12 ('base')",
   "language": "python",
   "name": "python3"
  },
  "language_info": {
   "codemirror_mode": {
    "name": "ipython",
    "version": 3
   },
   "file_extension": ".py",
   "mimetype": "text/x-python",
   "name": "python",
   "nbconvert_exporter": "python",
   "pygments_lexer": "ipython3",
   "version": "3.9.12"
  },
  "orig_nbformat": 4,
  "vscode": {
   "interpreter": {
    "hash": "53ef7bdd207552b6da7162dea4211de23da0c26f07854d7886087ce0b84ae931"
   }
  }
 },
 "nbformat": 4,
 "nbformat_minor": 2
}
